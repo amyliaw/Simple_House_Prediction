{
 "cells": [
  {
   "cell_type": "code",
   "execution_count": 1,
   "metadata": {},
   "outputs": [],
   "source": [
    "import pandas as pd\n",
    "import numpy as np\n",
    "from collections import Counter\n",
    "data = pd.read_csv(\"/Users/amy/Desktop/kc_house_data.csv\")"
   ]
  },
  {
   "cell_type": "code",
   "execution_count": 2,
   "metadata": {},
   "outputs": [],
   "source": [
    "date = data['date'] # Only consider year of sale date\n",
    "for i in range(len(date)):\n",
    "    year = date[i][0:4]\n",
    "    data.iloc[i,1] = year\n",
    "yr_renovated = data['yr_renovated'] # If there is a renovation, consider it as time of built\n",
    "for i in range(len(yr_renovated)):\n",
    "    if(yr_renovated[i] != 0):\n",
    "        data.loc[i,'yr_built'] = yr_renovated[i]\n",
    "data = data.dropna() # Drop all observations containing na\n",
    "dummy_data = pd.get_dummies(data, columns = ['date','bedrooms','waterfront','view','condition','grade','zipcode']) # Dummy data\n",
    "price = dummy_data['price'] # Price is target\n",
    "newdata = dummy_data.drop(['id','yr_renovated','lat','long','price'],axis = 1) # id lat long is not relevant to our model\n",
    "# Non normalized dataframe"
   ]
  },
  {
   "cell_type": "code",
   "execution_count": 3,
   "metadata": {},
   "outputs": [],
   "source": [
    "import matplotlib.pyplot as plt"
   ]
  },
  {
   "cell_type": "code",
   "execution_count": 4,
   "metadata": {},
   "outputs": [
    {
     "data": {
      "text/plain": [
       "Index(['id', 'date', 'price', 'bedrooms', 'bathrooms', 'sqft_living',\n",
       "       'sqft_lot', 'floors', 'waterfront', 'view', 'condition', 'grade',\n",
       "       'sqft_above', 'sqft_basement', 'yr_built', 'yr_renovated', 'zipcode',\n",
       "       'lat', 'long', 'sqft_living15', 'sqft_lot15'],\n",
       "      dtype='object')"
      ]
     },
     "execution_count": 4,
     "metadata": {},
     "output_type": "execute_result"
    }
   ],
   "source": [
    "data.columns"
   ]
  },
  {
   "cell_type": "code",
   "execution_count": 5,
   "metadata": {},
   "outputs": [],
   "source": [
    "def getcolor(pricelist):\n",
    "    colorlist = []\n",
    "    for i in range(len(pricelist)):\n",
    "        price = pricelist[i]\n",
    "        if(price < 200000):\n",
    "            colorlist.append('#ffffe0')\n",
    "        elif(price < 400000):\n",
    "            colorlist.append('#ffd59b')\n",
    "        elif(price < 600000):\n",
    "            colorlist.append('#ffa474')\n",
    "        elif(price < 800000):\n",
    "            colorlist.append('#f47461')\n",
    "        else:\n",
    "            colorlist.append('#db4551')\n",
    "    return colorlist"
   ]
  },
  {
   "cell_type": "code",
   "execution_count": 6,
   "metadata": {},
   "outputs": [],
   "source": [
    "a = getcolor(list(data['price']))"
   ]
  },
  {
   "cell_type": "code",
   "execution_count": 7,
   "metadata": {
    "scrolled": true
   },
   "outputs": [
    {
     "data": {
      "image/png": "[encoded data removed]",
      "text/plain": [
       "<matplotlib.figure.Figure at 0x11ba0f9e8>"
      ]
     },
     "metadata": {},
     "output_type": "display_data"
    }
   ],
   "source": [
    "plt.scatter(x=list(data['view']),y=list(data['sqft_living']),color =a)\n",
    "plt.show()"
   ]
  },
  {
   "cell_type": "code",
   "execution_count": 8,
   "metadata": {},
   "outputs": [
    {
     "name": "stderr",
     "output_type": "stream",
     "text": [
      "/Users/amy/anaconda3/lib/python3.6/site-packages/sklearn/preprocessing/data.py:323: DataConversionWarning: Data with input dtype uint8, int64, float64 were all converted to float64 by MinMaxScaler.\n",
      "  return self.partial_fit(X, y)\n"
     ]
    }
   ],
   "source": [
    "from sklearn import preprocessing\n",
    "min_max_scaler = preprocessing.MinMaxScaler()\n",
    "d = min_max_scaler.fit_transform(newdata) #Normalized data matrix\n",
    "from sklearn.model_selection import train_test_split\n",
    "X_train, X_test, y_train, y_test = train_test_split(d, price, test_size=0.2, random_state=42)"
   ]
  },
  {
   "cell_type": "code",
   "execution_count": 9,
   "metadata": {},
   "outputs": [],
   "source": [
    "from flask import Flask,jsonify\n",
    "import json\n",
    "from flask_cors import CORS\n",
    "from scipy.spatial import distance"
   ]
  },
  {
   "cell_type": "code",
   "execution_count": 10,
   "metadata": {},
   "outputs": [],
   "source": [
    "def KNN(data, sqft, zipcode, year, bedroom, bathroom): #input sqft, zipcode, year, bedroom, bathroom to do prediction\n",
    "    ob = pd.DataFrame(np.matrix([sqft, year, bedroom, bathroom]), columns=['sqft_living','yr_built','bedrooms','bathrooms'])\n",
    "    df_zipcode = data[['sqft_living','zipcode','yr_built','bedrooms','bathrooms']] #filter by zipcode\n",
    "    df_zipcode = df_zipcode[df_zipcode['zipcode'] == zipcode][['sqft_living','yr_built','bedrooms','bathrooms']]\n",
    "    df_zipcode = df_zipcode.append(ob)\n",
    "    df_norm = min_max_scaler.fit_transform(df_zipcode)\n",
    "    dist = []\n",
    "    observation = df_norm[len(df_norm)-1,:]\n",
    "    for i in range(len(df_norm)-1):\n",
    "        dist.append(distance.euclidean(df_norm[i,:],observation)) #find the observations with smallest distance\n",
    "    index = np.argsort(dist)[:10]\n",
    "    df_10 = df_zipcode.iloc[index,:]\n",
    "    return df_10 #return index of dataframe"
   ]
  },
  {
   "cell_type": "code",
   "execution_count": 11,
   "metadata": {},
   "outputs": [],
   "source": [
    "def predict(clf,data,newdata,sqft,zipcode, year, bedroom, bathroom): #data:original data #newdata:dummydata\n",
    "    temp = KNN(data, sqft, zipcode, year, bedroom, bathroom)\n",
    "    index = temp.index\n",
    "    df = newdata[newdata.index.isin(index)]\n",
    "    min_max_scaler.fit(newdata) #normalize \n",
    "    df_norm = min_max_scaler.transform(df)\n",
    "    top_prediction = clf.predict(df_norm) #do predition\n",
    "    return np.median(top_prediction) "
   ]
  },
  {
   "cell_type": "code",
   "execution_count": 12,
   "metadata": {
    "scrolled": true
   },
   "outputs": [
    {
     "name": "stderr",
     "output_type": "stream",
     "text": [
      "/Users/amy/anaconda3/lib/python3.6/site-packages/sklearn/linear_model/coordinate_descent.py:491: ConvergenceWarning: Objective did not converge. You might want to increase the number of iterations. Fitting data with very small alpha may cause precision problems.\n",
      "  ConvergenceWarning)\n"
     ]
    },
    {
     "data": {
      "text/plain": [
       "Lasso(alpha=0.1, copy_X=True, fit_intercept=True, max_iter=1000,\n",
       "   normalize=False, positive=False, precompute=False, random_state=None,\n",
       "   selection='cyclic', tol=0.0001, warm_start=False)"
      ]
     },
     "execution_count": 12,
     "metadata": {},
     "output_type": "execute_result"
    }
   ],
   "source": [
    "from sklearn import linear_model\n",
    "clf = linear_model.Lasso(alpha=0.1) \n",
    "clf.fit(X_train,y_train)"
   ]
  },
  {
   "cell_type": "code",
   "execution_count": 13,
   "metadata": {},
   "outputs": [],
   "source": [
    "width = max(list(data['price'])) - min(list(data['price']))\n",
    "length = 300\n",
    "seg = 5000\n",
    "price = []\n",
    "num = []\n",
    "a = 75000\n",
    "b = a + seg\n",
    "for i in range(length):\n",
    "    num.append(len(data[data['price'].between(a,b-1)]))\n",
    "    price.append(a)\n",
    "    a = a + seg\n",
    "    b = b + seg"
   ]
  },
  {
   "cell_type": "code",
   "execution_count": 14,
   "metadata": {},
   "outputs": [],
   "source": [
    "width = max(list(data['sqft_living'])) - min(list(data['sqft_living']))\n",
    "length = 300\n",
    "seg = 20\n",
    "sqft_l = []\n",
    "numm = []\n",
    "a = 290\n",
    "b = a + seg\n",
    "for i in range(length):\n",
    "    numm.append(len(data[data['sqft_living'].between(a,b-1)]))\n",
    "    sqft_l.append(a)\n",
    "    a = a + seg\n",
    "    b = b + seg"
   ]
  },
  {
   "cell_type": "code",
   "execution_count": 15,
   "metadata": {},
   "outputs": [],
   "source": [
    "def sqft_range_sample(data,a,b):\n",
    "    data_fil = data[(data['sqft_living'] > a) & (data['sqft_living'] < b)]\n",
    "    return data_fil"
   ]
  },
  {
   "cell_type": "code",
   "execution_count": 16,
   "metadata": {},
   "outputs": [],
   "source": [
    "def price_range_sample(data,a,b):\n",
    "    data_fil = data[(data['price'] > a) & (data['price'] < b)]\n",
    "    return data_fil"
   ]
  },
  {
   "cell_type": "code",
   "execution_count": 17,
   "metadata": {},
   "outputs": [],
   "source": [
    "app = Flask(__name__)\n",
    "CORS(app)\n",
    "@app.route('/project/status=<status>&sqft=<sqft>&zipcode=<zipcode>&year=<year>&bedroom=<bedroom>&bathroom=<bathroom>&mi=<mi>&ma=<ma>&mis=<mis>&mas=<mas>', methods=['GET'])\n",
    "def server(status,sqft,zipcode,year,bedroom,bathroom,mi,ma,mis,mas): \n",
    "    status = int(status)\n",
    "    sqft = float(sqft)\n",
    "    zipcode = int(zipcode)\n",
    "    year = int(year)\n",
    "    bedroom = float(bedroom)\n",
    "    bathroom = float(bathroom)\n",
    "    mi = float(mi)\n",
    "    ma = float(ma)\n",
    "    mis = float(mis)\n",
    "    mas = float(mas)\n",
    "    if(status == 1): # st = 1 means we want to do a prediction\n",
    "        price_pred = predict(clf,data,newdata,sqft,zipcode,year,bedroom,bathroom)\n",
    "        return json.dumps(price_pred)\n",
    "    if(status == 2): # return sample data\n",
    "        dict_2 = []\n",
    "        d = data.sample(100)\n",
    "        d = d[['sqft_living','zipcode','yr_built','bedrooms','bathrooms','lat','long','price']]\n",
    "        return d.to_json(orient='split')\n",
    "    if(status == 3): #return data zipcode vs average price\n",
    "        zipcode = list(Counter(data.iloc[:,16]).keys())\n",
    "        count = list(Counter(data.iloc[:,16]).values())\n",
    "        a_list = []\n",
    "        for i in range(len(zipcode)):\n",
    "            temp = data[data['zipcode'] == zipcode[i]]\n",
    "            s = np.sum(temp['price'])\n",
    "            average = s / count[i]\n",
    "            a_list.append({'zipcode':float(zipcode[i]),'average':average})\n",
    "        return json.dumps(a_list)\n",
    "    if(status == 4): #return observations with price between mi and ma, with sqft between mis and mas\n",
    "        d = price_range_sample(data,mi,ma)\n",
    "        d = sqft_range_sample(d,mis,mas)\n",
    "        d = d[['sqft_living','zipcode','yr_built','bedrooms','bathrooms','lat','long','price']]\n",
    "        if(len(d) > 50):\n",
    "            d = d.sample(50)\n",
    "        return d.to_json(orient='split')\n",
    "    if(status == 5): #return most similar\n",
    "        index = KNN(data, sqft,zipcode,year,bedroom,bathroom).index\n",
    "        df = data[data.index.isin(index)]\n",
    "        d = df[['sqft_living','zipcode','yr_built','bedrooms','bathrooms','lat','long','sqft_basement','condition','floors','price']]\n",
    "        return d.to_json(orient='split')"
   ]
  },
  {
   "cell_type": "code",
   "execution_count": null,
   "metadata": {},
   "outputs": [
    {
     "name": "stderr",
     "output_type": "stream",
     "text": [
      " * Running on http://127.0.0.1:5000/ (Press CTRL+C to quit)\n",
      "/Users/amy/anaconda3/lib/python3.6/site-packages/sklearn/preprocessing/data.py:323: DataConversionWarning: Data with input dtype uint8, int64, float64 were all converted to float64 by MinMaxScaler.\n",
      "  return self.partial_fit(X, y)\n",
      "127.0.0.1 - - [05/Dec/2018 17:06:37] \"\u001b[37mGET /project/status=1&sqft=7246&zipcode=98102&year=1951&bedroom=5&bathroom=3&mi=0&ma=0&mis=0&mas=0 HTTP/1.1\u001b[0m\" 200 -\n",
      "127.0.0.1 - - [05/Dec/2018 17:06:38] \"\u001b[37mGET /project/status=5&sqft=7246&zipcode=98102&year=1951&bedroom=5&bathroom=3&mi=2&ma=2&mis=290&mas=290 HTTP/1.1\u001b[0m\" 200 -\n",
      "127.0.0.1 - - [05/Dec/2018 17:06:54] \"\u001b[37mGET /project/status=5&sqft=7246&zipcode=98102&year=1951&bedroom=5&bathroom=3&mi=2&ma=2&mis=290&mas=290 HTTP/1.1\u001b[0m\" 200 -\n",
      "/Users/amy/anaconda3/lib/python3.6/site-packages/sklearn/preprocessing/data.py:323: DataConversionWarning: Data with input dtype uint8, int64, float64 were all converted to float64 by MinMaxScaler.\n",
      "  return self.partial_fit(X, y)\n",
      "127.0.0.1 - - [05/Dec/2018 17:09:11] \"\u001b[37mGET /project/status=1&sqft=6431&zipcode=98109&year=2000&bedroom=3&bathroom=2&mi=0&ma=0&mis=0&mas=0 HTTP/1.1\u001b[0m\" 200 -\n",
      "127.0.0.1 - - [05/Dec/2018 17:09:22] \"\u001b[37mGET /project/status=5&sqft=6431&zipcode=98109&year=2000&bedroom=3&bathroom=2&mi=2&ma=2&mis=290&mas=290 HTTP/1.1\u001b[0m\" 200 -\n",
      "127.0.0.1 - - [05/Dec/2018 17:09:53] \"\u001b[37mGET /project/status=5&sqft=6431&zipcode=98109&year=2000&bedroom=3&bathroom=2&mi=2&ma=2&mis=290&mas=290 HTTP/1.1\u001b[0m\" 200 -\n",
      "127.0.0.1 - - [05/Dec/2018 17:11:07] \"\u001b[37mGET /project/status=4&sqft=2000&zipcode=98125&year=1920&bedroom=2&bathroom=2&mi=295000&ma=550001&mis=1750&mas=2491 HTTP/1.1\u001b[0m\" 200 -\n",
      "/Users/amy/anaconda3/lib/python3.6/site-packages/sklearn/preprocessing/data.py:323: DataConversionWarning: Data with input dtype uint8, int64, float64 were all converted to float64 by MinMaxScaler.\n",
      "  return self.partial_fit(X, y)\n",
      "127.0.0.1 - - [05/Dec/2018 17:14:34] \"\u001b[37mGET /project/status=1&sqft=6858&zipcode=98109&year=2000&bedroom=4&bathroom=3&mi=0&ma=0&mis=0&mas=0 HTTP/1.1\u001b[0m\" 200 -\n",
      "127.0.0.1 - - [05/Dec/2018 17:14:42] \"\u001b[37mGET /project/status=5&sqft=6858&zipcode=98109&year=2000&bedroom=4&bathroom=3&mi=2&ma=2&mis=290&mas=290 HTTP/1.1\u001b[0m\" 200 -\n",
      "127.0.0.1 - - [05/Dec/2018 17:15:04] \"\u001b[37mGET /project/status=5&sqft=6858&zipcode=98109&year=2000&bedroom=4&bathroom=3&mi=2&ma=2&mis=290&mas=290 HTTP/1.1\u001b[0m\" 200 -\n",
      "127.0.0.1 - - [05/Dec/2018 17:16:23] \"\u001b[37mGET /project/status=4&sqft=2000&zipcode=98125&year=1920&bedroom=2&bathroom=2&mi=335000&ma=565001&mis=1590&mas=2271 HTTP/1.1\u001b[0m\" 200 -\n",
      "127.0.0.1 - - [05/Dec/2018 17:16:38] \"\u001b[37mGET /project/status=4&sqft=2000&zipcode=98125&year=1920&bedroom=2&bathroom=2&mi=335000&ma=565001&mis=1590&mas=2271 HTTP/1.1\u001b[0m\" 200 -\n",
      "127.0.0.1 - - [05/Dec/2018 17:16:41] \"\u001b[37mGET /project/status=4&sqft=2000&zipcode=98125&year=1920&bedroom=2&bathroom=2&mi=335000&ma=565001&mis=1590&mas=2271 HTTP/1.1\u001b[0m\" 200 -\n",
      "127.0.0.1 - - [05/Dec/2018 17:16:42] \"\u001b[37mGET /project/status=4&sqft=2000&zipcode=98125&year=1920&bedroom=2&bathroom=2&mi=335000&ma=565001&mis=1590&mas=2271 HTTP/1.1\u001b[0m\" 200 -\n",
      "127.0.0.1 - - [05/Dec/2018 17:16:52] \"\u001b[37mGET /project/status=4&sqft=2000&zipcode=98125&year=1920&bedroom=2&bathroom=2&mi=745000&ma=800001&mis=2730&mas=2911 HTTP/1.1\u001b[0m\" 200 -\n"
     ]
    }
   ],
   "source": [
    "if __name__ == '__main__':\n",
    "    app.run() #The port will be 5000"
   ]
  },
  {
   "cell_type": "code",
   "execution_count": null,
   "metadata": {},
   "outputs": [],
   "source": []
  }
 ],
 "metadata": {
  "kernelspec": {
   "display_name": "Python 3",
   "language": "python",
   "name": "python3"
  },
  "language_info": {
   "codemirror_mode": {
    "name": "ipython",
    "version": 3
   },
   "file_extension": ".py",
   "mimetype": "text/x-python",
   "name": "python",
   "nbconvert_exporter": "python",
   "pygments_lexer": "ipython3",
   "version": "3.6.3"
  }
 },
 "nbformat": 4,
 "nbformat_minor": 2
}
